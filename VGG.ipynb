{
 "cells": [
  {
   "cell_type": "code",
   "execution_count": 1,
   "metadata": {},
   "outputs": [
    {
     "name": "stderr",
     "output_type": "stream",
     "text": [
      "/usr/local/lib/python3.6/site-packages/h5py/__init__.py:36: FutureWarning: Conversion of the second argument of issubdtype from `float` to `np.floating` is deprecated. In future, it will be treated as `np.float64 == np.dtype(float).type`.\n",
      "  from ._conv import register_converters as _register_converters\n",
      "Using TensorFlow backend.\n"
     ]
    }
   ],
   "source": [
    "from keras.layers import Flatten, Conv2D, MaxPool2D, Dense, Dropout"
   ]
  },
  {
   "cell_type": "code",
   "execution_count": 3,
   "metadata": {},
   "outputs": [],
   "source": [
    "# VGG-A\n",
    "def vgg_a(x):\n",
    "    x1 = Conv2D(64, (3,3), padding = 'same', activation='relu')(x)\n",
    "    x1 = MaxPool(pool_size=(2,2), strides=2)(x1)\n",
    "    x1 = Conv2D(128, (3,3), padding = 'same', activation='relu')(x1)\n",
    "    x1 = MaxPool(pool_size=(2,2), strides=2)(x1)\n",
    "    x1 = Conv2D(256, (3,3), padding = 'same', activation='relu')(x1)\n",
    "    x1 = Conv2D(256, (3,3), padding = 'same', activation='relu')(x1)\n",
    "    x1 = MaxPool(pool_size=(2,2), strides=2)(x1)\n",
    "    x1 = Conv2D(512, (3,3), padding = 'same', activation='relu')(x1)\n",
    "    x1 = Conv2D(512, (3,3), padding = 'same', activation='relu')(x1)\n",
    "    x1 = MaxPool(pool_size=(2,2), strides=2)(x1)\n",
    "    x1 = Conv2D(512, (3,3), padding = 'same', activation='relu')(x1)\n",
    "    x1 = Conv2D(512, (3,3), padding = 'same', activation='relu')(x1)\n",
    "    x1 = MaxPool(pool_size=(2,2), strides=2)(x1)\n",
    "    x1 = Dense(4096, activation='relu')(x1)\n",
    "    x1 = Dropout(0.5)(x1)\n",
    "    x1 = Dense(4096, activation='relu')(x1)\n",
    "    x1 = Dropout(0.5)(x1)\n",
    "    x1 = Dense(10)(x1)\n",
    "    output = Activation('softmax')(x1)\n",
    "    return output"
   ]
  },
  {
   "cell_type": "code",
   "execution_count": 4,
   "metadata": {},
   "outputs": [],
   "source": [
    "# VGG-B\n",
    "def vgg_b(x):\n",
    "    x1 = Conv2D(64, (3,3), padding = 'same', activation='relu')(x)\n",
    "    x1 = Conv2D(64, (3,3), padding = 'same', activation='relu')(1)\n",
    "    x1 = MaxPool(pool_size=(2,2), strides=2)(x1)\n",
    "    x1 = Conv2D(128, (3,3), padding = 'same', activation='relu')(x1)\n",
    "    x1 = Conv2D(128, (3,3), padding = 'same', activation='relu')(x1)\n",
    "    x1 = MaxPool(pool_size=(2,2), strides=2)(x1)\n",
    "    x1 = Conv2D(256, (3,3), padding = 'same', activation='relu')(x1)\n",
    "    x1 = Conv2D(256, (3,3), padding = 'same', activation='relu')(x1)\n",
    "    x1 = MaxPool(pool_size=(2,2), strides=2)(x1)\n",
    "    x1 = Conv2D(512, (3,3), padding = 'same', activation='relu')(x1)\n",
    "    x1 = Conv2D(512, (3,3), padding = 'same', activation='relu')(x1)\n",
    "    x1 = MaxPool(pool_size=(2,2), strides=2)(x1)\n",
    "    x1 = Conv2D(512, (3,3), padding = 'same', activation='relu')(x1)\n",
    "    x1 = Conv2D(512, (3,3), padding = 'same', activation='relu')(x1)\n",
    "    x1 = MaxPool(pool_size=(2,2), strides=2)(x1)\n",
    "    x1 = Dense(4096, activation='relu')(x1)\n",
    "    x1 = Dropout(0.5)(x1)\n",
    "    x1 = Dense(4096, activation='relu')(x1)\n",
    "    x1 = Dropout(0.5)(x1)\n",
    "    x1 = Dense(10)(x1)\n",
    "    output = Activation('softmax')(x1)\n",
    "    return output"
   ]
  },
  {
   "cell_type": "code",
   "execution_count": 5,
   "metadata": {},
   "outputs": [],
   "source": [
    "# VGG-C\n",
    "def vgg_c(x):\n",
    "    x1 = Conv2D(64, (3,3), padding = 'same', activation='relu')(x)\n",
    "    x1 = Conv2D(64, (3,3), padding = 'same', activation='relu')(1)\n",
    "    x1 = MaxPool(pool_size=(2,2), strides=2)(x1)\n",
    "    x1 = Conv2D(128, (3,3), padding = 'same', activation='relu')(x1)\n",
    "    x1 = Conv2D(128, (3,3), padding = 'same', activation='relu')(x1)\n",
    "    x1 = MaxPool(pool_size=(2,2), strides=2)(x1)\n",
    "    x1 = Conv2D(256, (3,3), padding = 'same', activation='relu')(x1)\n",
    "    x1 = Conv2D(256, (3,3), padding = 'same', activation='relu')(x1)\n",
    "    x1 = Conv2D(256, (1,1), padding = 'same', activation='relu')(x1)\n",
    "    x1 = MaxPool(pool_size=(2,2), strides=2)(x1)\n",
    "    x1 = Conv2D(512, (3,3), padding = 'same', activation='relu')(x1)\n",
    "    x1 = Conv2D(512, (3,3), padding = 'same', activation='relu')(x1)\n",
    "    x1 = Conv2D(512, (1,1), padding = 'same', activation='relu')(x1)\n",
    "    x1 = MaxPool(pool_size=(2,2), strides=2)(x1)\n",
    "    x1 = Conv2D(512, (3,3), padding = 'same', activation='relu')(x1)\n",
    "    x1 = Conv2D(512, (3,3), padding = 'same', activation='relu')(x1)\n",
    "    x1 = Conv2D(512, (1,1), padding = 'same', activation='relu')(x1)\n",
    "    x1 = MaxPool(pool_size=(2,2), strides=2)(x1)\n",
    "    x1 = Dense(4096, activation='relu')(x1)\n",
    "    x1 = Dropout(0.5)(x1)\n",
    "    x1 = Dense(4096, activation='relu')(x1)\n",
    "    x1 = Dropout(0.5)(x1)\n",
    "    x1 = Dense(10)(x1)\n",
    "    output = Activation('softmax')(x1)\n",
    "    return output"
   ]
  },
  {
   "cell_type": "code",
   "execution_count": 6,
   "metadata": {},
   "outputs": [],
   "source": [
    "# VGG-D\n",
    "def vgg_d(x):\n",
    "    x1 = Conv2D(64, (3,3), padding = 'same', activation='relu')(x)\n",
    "    x1 = Conv2D(64, (3,3), padding = 'same', activation='relu')(1)\n",
    "    x1 = MaxPool(pool_size=(2,2), strides=2)(x1)\n",
    "    x1 = Conv2D(128, (3,3), padding = 'same', activation='relu')(x1)\n",
    "    x1 = Conv2D(128, (3,3), padding = 'same', activation='relu')(x1)\n",
    "    x1 = MaxPool(pool_size=(2,2), strides=2)(x1)\n",
    "    x1 = Conv2D(256, (3,3), padding = 'same', activation='relu')(x1)\n",
    "    x1 = Conv2D(256, (3,3), padding = 'same', activation='relu')(x1)\n",
    "    x1 = Conv2D(256, (3,3), padding = 'same', activation='relu')(x1)\n",
    "    x1 = MaxPool(pool_size=(2,2), strides=2)(x1)\n",
    "    x1 = Conv2D(512, (3,3), padding = 'same', activation='relu')(x1)\n",
    "    x1 = Conv2D(512, (3,3), padding = 'same', activation='relu')(x1)\n",
    "    x1 = Conv2D(512, (3,3), padding = 'same', activation='relu')(x1)\n",
    "    x1 = MaxPool(pool_size=(2,2), strides=2)(x1)\n",
    "    x1 = Conv2D(512, (3,3), padding = 'same', activation='relu')(x1)\n",
    "    x1 = Conv2D(512, (3,3), padding = 'same', activation='relu')(x1)\n",
    "    x1 = Conv2D(512, (3,3), padding = 'same', activation='relu')(x1)\n",
    "    x1 = MaxPool(pool_size=(2,2), strides=2)(x1)\n",
    "    x1 = Dense(4096, activation='relu')(x1)\n",
    "    x1 = Dropout(0.5)(x1)\n",
    "    x1 = Dense(4096, activation='relu')(x1)\n",
    "    x1 = Dropout(0.5)(x1)\n",
    "    x1 = Dense(10)(x1)\n",
    "    output = Activation('softmax')(x1)\n",
    "    return output"
   ]
  },
  {
   "cell_type": "code",
   "execution_count": 7,
   "metadata": {},
   "outputs": [],
   "source": [
    "# VGG-E\n",
    "def vgg_e(x):\n",
    "    x1 = Conv2D(64, (3,3), padding = 'same', activation='relu')(x)\n",
    "    x1 = Conv2D(64, (3,3), padding = 'same', activation='relu')(1)\n",
    "    x1 = MaxPool(pool_size=(2,2), strides=2)(x1)\n",
    "    x1 = Conv2D(128, (3,3), padding = 'same', activation='relu')(x1)\n",
    "    x1 = Conv2D(128, (3,3), padding = 'same', activation='relu')(x1)\n",
    "    x1 = MaxPool(pool_size=(2,2), strides=2)(x1)\n",
    "    x1 = Conv2D(256, (3,3), padding = 'same', activation='relu')(x1)\n",
    "    x1 = Conv2D(256, (3,3), padding = 'same', activation='relu')(x1)\n",
    "    x1 = Conv2D(256, (3,3), padding = 'same', activation='relu')(x1)\n",
    "    x1 = Conv2D(256, (3,3), padding = 'same', activation='relu')(x1)\n",
    "    x1 = MaxPool(pool_size=(2,2), strides=2)(x1)\n",
    "    x1 = Conv2D(512, (3,3), padding = 'same', activation='relu')(x1)\n",
    "    x1 = Conv2D(512, (3,3), padding = 'same', activation='relu')(x1)\n",
    "    x1 = Conv2D(512, (3,3), padding = 'same', activation='relu')(x1)\n",
    "    x1 = Conv2D(512, (3,3), padding = 'same', activation='relu')(x1)\n",
    "    x1 = MaxPool(pool_size=(2,2), strides=2)(x1)\n",
    "    x1 = Conv2D(512, (3,3), padding = 'same', activation='relu')(x1)\n",
    "    x1 = Conv2D(512, (3,3), padding = 'same', activation='relu')(x1)\n",
    "    x1 = Conv2D(512, (3,3), padding = 'same', activation='relu')(x1)\n",
    "    x1 = Conv2D(512, (3,3), padding = 'same', activation='relu')(x1)\n",
    "    x1 = MaxPool(pool_size=(2,2), strides=2)(x1)\n",
    "    x1 = Dense(4096, activation='relu')(x1)\n",
    "    x1 = Dropout(0.5)(x1)\n",
    "    x1 = Dense(4096, activation='relu')(x1)\n",
    "    x1 = Dropout(0.5)(x1)\n",
    "    x1 = Dense(10)(x1)\n",
    "    output = Activation('softmax')(x1)\n",
    "    return output"
   ]
  },
  {
   "cell_type": "code",
   "execution_count": null,
   "metadata": {},
   "outputs": [],
   "source": []
  }
 ],
 "metadata": {
  "kernelspec": {
   "display_name": "Python 3",
   "language": "python",
   "name": "python3"
  },
  "language_info": {
   "codemirror_mode": {
    "name": "ipython",
    "version": 3
   },
   "file_extension": ".py",
   "mimetype": "text/x-python",
   "name": "python",
   "nbconvert_exporter": "python",
   "pygments_lexer": "ipython3",
   "version": "3.6.5"
  }
 },
 "nbformat": 4,
 "nbformat_minor": 2
}
