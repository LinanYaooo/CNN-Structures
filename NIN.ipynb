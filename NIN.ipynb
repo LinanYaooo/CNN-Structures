{
 "cells": [
  {
   "cell_type": "code",
   "execution_count": 1,
   "metadata": {},
   "outputs": [
    {
     "name": "stderr",
     "output_type": "stream",
     "text": [
      "/usr/local/lib/python3.6/site-packages/h5py/__init__.py:36: FutureWarning: Conversion of the second argument of issubdtype from `float` to `np.floating` is deprecated. In future, it will be treated as `np.float64 == np.dtype(float).type`.\n",
      "  from ._conv import register_converters as _register_converters\n",
      "Using TensorFlow backend.\n"
     ]
    }
   ],
   "source": [
    "from keras.datasets import mnist\n",
    "from keras.layers import Flatten, Conv2D, MaxPool2D, Dense, Input,AveragePooling2D,Reshape,Activation\n",
    "from keras.models import Sequential, Model\n",
    "from keras.optimizers import SGD\n",
    "from keras.utils import plot_model, to_categorical\n",
    "\n",
    "import matplotlib.pyplot as plt"
   ]
  },
  {
   "cell_type": "code",
   "execution_count": 2,
   "metadata": {},
   "outputs": [],
   "source": [
    "(x_train, y_train), (x_test, y_test) = mnist.load_data()\n",
    "#数据变成TensorFow为Backend的形式\n",
    "x_train=x_train.reshape(60000,28,28,1)\n",
    "x_test=x_test.reshape(10000,28,28,1)\n",
    "#把标签变成one-hot编码的形式\n",
    "y_train=to_categorical(y_train,num_classes=10)\n",
    "y_test=to_categorical(y_test,num_classes=10)"
   ]
  },
  {
   "cell_type": "code",
   "execution_count": null,
   "metadata": {},
   "outputs": [],
   "source": [
    "NIN = Sequential()\n",
    "NIN.add(Conv2D(input_shape=(28,28,1), filters= 8, kernel_size = (1,1),padding = 'same'))\n",
    "NIN.add(Conv2D(input_shape=(28,28,1), filters= 8, kernel_size = (1,1),padding = 'same'))\n",
    "NIN.add(Flatten())\n",
    "NIN.add(Dense(196,activation = 'relu'))\n",
    "NIN.add(Reshape((14,14,1),input_shape = (196,1)))\n",
    "NIN.add(Conv2D(16,(1,1),padding = 'same'))\n",
    "NIN.add(Conv2D(16,(1,1),padding = 'same'))\n",
    "NIN.add(Flatten())\n",
    "NIN.add(Dense(120,activation = 'relu'))\n",
    "NIN.add(Dense(84,activation = 'relu'))\n",
    "NIN.add(Dense(10))\n",
    "NIN.add(Activation('softmax'))\n",
    "NIN.summary()"
   ]
  },
  {
   "cell_type": "code",
   "execution_count": null,
   "metadata": {},
   "outputs": [
    {
     "name": "stdout",
     "output_type": "stream",
     "text": [
      "Epoch 1/10\n",
      "60000/60000 [==============================] - 11s 180us/step - loss: 1.0537 - acc: 0.8673\n",
      "Epoch 2/10\n",
      "60000/60000 [==============================] - 10s 173us/step - loss: 0.1241 - acc: 0.9621\n",
      "Epoch 3/10\n",
      "60000/60000 [==============================] - 10s 174us/step - loss: 0.0862 - acc: 0.9734\n",
      "Epoch 4/10\n",
      "60000/60000 [==============================] - 11s 183us/step - loss: 0.0662 - acc: 0.9791\n",
      "Epoch 5/10\n",
      "60000/60000 [==============================] - 11s 185us/step - loss: 0.0513 - acc: 0.9838\n",
      "Epoch 6/10\n",
      "50176/60000 [========================>.....] - ETA: 1s - loss: 0.0408 - acc: 0.9868"
     ]
    }
   ],
   "source": [
    "NIN.compile(optimizer=SGD(lr=0.01),loss = 'categorical_crossentropy', metrics=['accuracy'])\n",
    "# x_train,y_train,x_test,y_test = preprocess()\n",
    "history3 = NIN.fit(x_train,y_train,epochs=10,batch_size=128,shuffle=True)"
   ]
  },
  {
   "cell_type": "code",
   "execution_count": 9,
   "metadata": {},
   "outputs": [
    {
     "name": "stdout",
     "output_type": "stream",
     "text": [
      "_________________________________________________________________\n",
      "Layer (type)                 Output Shape              Param #   \n",
      "=================================================================\n",
      "conv2d_7 (Conv2D)            (None, 24, 24, 8)         208       \n",
      "_________________________________________________________________\n",
      "max_pooling2d_3 (MaxPooling2 (None, 12, 12, 8)         0         \n",
      "_________________________________________________________________\n",
      "conv2d_8 (Conv2D)            (None, 8, 8, 16)          3216      \n",
      "_________________________________________________________________\n",
      "max_pooling2d_4 (MaxPooling2 (None, 4, 4, 16)          0         \n",
      "_________________________________________________________________\n",
      "flatten_8 (Flatten)          (None, 256)               0         \n",
      "_________________________________________________________________\n",
      "dense_14 (Dense)             (None, 120)               30840     \n",
      "_________________________________________________________________\n",
      "dense_15 (Dense)             (None, 84)                10164     \n",
      "_________________________________________________________________\n",
      "dense_16 (Dense)             (None, 10)                850       \n",
      "=================================================================\n",
      "Total params: 45,278\n",
      "Trainable params: 45,278\n",
      "Non-trainable params: 0\n",
      "_________________________________________________________________\n"
     ]
    }
   ],
   "source": [
    "# 构建LeNet-5网络\n",
    "lenet = Sequential()\n",
    "lenet.add(Conv2D(input_shape = (28,28,1), filters=8, kernel_size=(5,5), padding='valid', activation='relu'))\n",
    "lenet.add(MaxPool2D(pool_size=(2,2), strides=2))\n",
    "lenet.add(Conv2D(input_shape=(16,16,8), filters=16, kernel_size=(5,5), padding='valid', activation='relu'))\n",
    "lenet.add(MaxPool2D(pool_size=(2,2), strides=2))\n",
    "lenet.add(Flatten())\n",
    "lenet.add(Dense(120, activation='relu'))\n",
    "lenet.add(Dense(84, activation='relu'))\n",
    "lenet.add(Dense(10, activation='softmax'))\n",
    "lenet.summary()"
   ]
  },
  {
   "cell_type": "code",
   "execution_count": 10,
   "metadata": {},
   "outputs": [
    {
     "name": "stdout",
     "output_type": "stream",
     "text": [
      "Epoch 1/10\n",
      "60000/60000 [==============================] - 10s 172us/step - loss: 0.4354 - acc: 0.8739\n",
      "Epoch 2/10\n",
      "60000/60000 [==============================] - 10s 168us/step - loss: 0.1316 - acc: 0.9594\n",
      "Epoch 3/10\n",
      "60000/60000 [==============================] - 10s 169us/step - loss: 0.0968 - acc: 0.9703\n",
      "Epoch 4/10\n",
      "60000/60000 [==============================] - 10s 166us/step - loss: 0.0791 - acc: 0.9758\n",
      "Epoch 5/10\n",
      "60000/60000 [==============================] - 10s 169us/step - loss: 0.0669 - acc: 0.9795\n",
      "Epoch 6/10\n",
      "60000/60000 [==============================] - 10s 172us/step - loss: 0.0591 - acc: 0.9813\n",
      "Epoch 7/10\n",
      "60000/60000 [==============================] - 10s 172us/step - loss: 0.0514 - acc: 0.9840\n",
      "Epoch 8/10\n",
      "60000/60000 [==============================] - 11s 179us/step - loss: 0.0452 - acc: 0.9858\n",
      "Epoch 9/10\n",
      "60000/60000 [==============================] - 10s 172us/step - loss: 0.0408 - acc: 0.9869\n",
      "Epoch 10/10\n",
      "60000/60000 [==============================] - 10s 172us/step - loss: 0.0370 - acc: 0.9886\n"
     ]
    }
   ],
   "source": [
    "lenet.compile(loss='categorical_crossentropy', optimizer=SGD(lr=0.01), metrics=['accuracy'])\n",
    "lenet_history = lenet.fit(x_train, y_train, batch_size=128, epochs=10)"
   ]
  },
  {
   "cell_type": "code",
   "execution_count": null,
   "metadata": {},
   "outputs": [],
   "source": [
    "# summarize history for accuracy\n",
    "plt.plot(lenet_history.history['loss'])\n",
    "plt.plot(history3.history['loss'])\n",
    "plt.title('model accuracy')\n",
    "plt.ylabel('loss')\n",
    "plt.xlabel('epoch')\n",
    "plt.legend(['lenet loss','NIN loss'], loc='upper right')\n",
    "plt.show()"
   ]
  },
  {
   "cell_type": "code",
   "execution_count": null,
   "metadata": {},
   "outputs": [],
   "source": []
  }
 ],
 "metadata": {
  "kernelspec": {
   "display_name": "Python 3",
   "language": "python",
   "name": "python3"
  },
  "language_info": {
   "codemirror_mode": {
    "name": "ipython",
    "version": 3
   },
   "file_extension": ".py",
   "mimetype": "text/x-python",
   "name": "python",
   "nbconvert_exporter": "python",
   "pygments_lexer": "ipython3",
   "version": "3.6.5"
  }
 },
 "nbformat": 4,
 "nbformat_minor": 2
}
